{
 "cells": [
  {
   "cell_type": "raw",
   "metadata": {},
   "source": [
    "Write a program that asks the user to type a number. Convert the number to an integer and print it. If you can't convert their input to an integer, print a message that says \"Please type an integer.\""
   ]
  },
  {
   "cell_type": "code",
   "execution_count": 11,
   "metadata": {},
   "outputs": [
    {
     "name": "stdin",
     "output_type": "stream",
     "text": [
      "Please type a number: 12\n"
     ]
    },
    {
     "name": "stdout",
     "output_type": "stream",
     "text": [
      "12\n"
     ]
    }
   ],
   "source": [
    "a = input(\"Please type a number:\")\n",
    "\n",
    "try:\n",
    "    print(int(a))\n",
    "except ValueError:\n",
    "    print(\"Please type an integer\")\n",
    "    "
   ]
  },
  {
   "cell_type": "code",
   "execution_count": 7,
   "metadata": {},
   "outputs": [
    {
     "data": {
      "text/plain": [
       "12"
      ]
     },
     "execution_count": 7,
     "metadata": {},
     "output_type": "execute_result"
    }
   ],
   "source": [
    "check_num(12)"
   ]
  },
  {
   "cell_type": "code",
   "execution_count": 6,
   "metadata": {},
   "outputs": [
    {
     "name": "stdout",
     "output_type": "stream",
     "text": [
      "Type q to quit\n"
     ]
    },
    {
     "name": "stdin",
     "output_type": "stream",
     "text": [
      "Guess a number:  hey\n"
     ]
    },
    {
     "name": "stdout",
     "output_type": "stream",
     "text": [
      "WTF?!\n",
      "Type q to quit\n"
     ]
    },
    {
     "name": "stdin",
     "output_type": "stream",
     "text": [
      "Guess a number:  opoadf\n"
     ]
    },
    {
     "name": "stdout",
     "output_type": "stream",
     "text": [
      "WTF?!\n",
      "Type q to quit\n"
     ]
    },
    {
     "name": "stdin",
     "output_type": "stream",
     "text": [
      "Guess a number:  123\n"
     ]
    },
    {
     "name": "stdout",
     "output_type": "stream",
     "text": [
      "BETTER LUCK NEXT TIME!\n",
      "Type q to quit\n"
     ]
    },
    {
     "name": "stdin",
     "output_type": "stream",
     "text": [
      "Guess a number:  q\n"
     ]
    }
   ],
   "source": [
    "nums = [1,2,3,4,5]\n",
    "qs = [\"Guess a number: \"]\n",
    "n= 0\n",
    "while True:\n",
    "    print(\"Type q to quit\")\n",
    "    a = input(qs[n])\n",
    "    if a == \"q\":\n",
    "        break\n",
    "    n = 0\n",
    "    try:\n",
    "        a = int(a)\n",
    "        if a in nums:\n",
    "           print(\"IT'S IN THE LIST MOFO!\")\n",
    "        else:\n",
    "            print(\"BETTER LUCK NEXT TIME!\")\n",
    "    except:\n",
    "        print(\"WTF?!\")\n"
   ]
  },
  {
   "cell_type": "code",
   "execution_count": 7,
   "metadata": {},
   "outputs": [],
   "source": [
    "a= [[\"Top Gun\", \"Risky Business\", \"Minority Report\"], [\"Titanic\", \"The Revenant\", \"Inception\"], [\"Training Day\", \"Man on Fire\", \"Flight\"]]"
   ]
  },
  {
   "cell_type": "code",
   "execution_count": 9,
   "metadata": {},
   "outputs": [],
   "source": [
    "import csv"
   ]
  },
  {
   "cell_type": "code",
   "execution_count": 13,
   "metadata": {},
   "outputs": [],
   "source": [
    "with open(\"adsf.csv\",\"w\") as f:\n",
    "    r = csv.writer(f,delimiter=\",\")\n",
    "    for i in a:\n",
    "        r.writerow(i)"
   ]
  },
  {
   "cell_type": "code",
   "execution_count": null,
   "metadata": {},
   "outputs": [],
   "source": [
    "import random"
   ]
  },
  {
   "cell_type": "code",
   "execution_count": null,
   "metadata": {},
   "outputs": [],
   "source": [
    "random.r"
   ]
  },
  {
   "cell_type": "code",
   "execution_count": null,
   "metadata": {},
   "outputs": [],
   "source": []
  },
  {
   "cell_type": "code",
   "execution_count": null,
   "metadata": {},
   "outputs": [],
   "source": []
  },
  {
   "cell_type": "code",
   "execution_count": 1,
   "metadata": {},
   "outputs": [],
   "source": [
    "import random\n",
    "\n",
    "def hangman():\n",
    "    words = [\"black\",\"hat\",\"white\",\"rabbit\"]\n",
    "    word = words[random.randint(0,len(words))]\n",
    "    wrong = 0\n",
    "    stages = [\"\",\n",
    "             \"________        \",\n",
    "             \"|               \",\n",
    "             \"|        |      \",\n",
    "             \"|        0      \",\n",
    "             \"|       /|\\     \",\n",
    "             \"|       / \\     \",\n",
    "             \"|               \"\n",
    "              ]\n",
    "    rletters = list(word)\n",
    "    board = [\"__\"] * len(word)\n",
    "    win = False\n",
    "    print(\"Welcome to Hangman\")\n",
    "    while wrong < len(stages) - 1:\n",
    "        print(\"\\n\")\n",
    "        msg = \"Guess a letter\"\n",
    "        char = input(msg)\n",
    "        if char in rletters:\n",
    "            cind = rletters.index(char)\n",
    "            board[cind] = char\n",
    "            rletters[cind] = '$'\n",
    "        else:\n",
    "            wrong += 1\n",
    "        print((\" \".join(board)))\n",
    "        e = wrong + 1\n",
    "        print(\"\\n\".join(stages[0: e]))\n",
    "        if \"__\" not in board:\n",
    "            print(\"You win!\")\n",
    "            print(\" \".join(board))\n",
    "            win = True\n",
    "            break\n",
    "    if not win:\n",
    "        print(\"\\n\"\n",
    "              .join(stages[0: wrong]))\n",
    "        print(\"You lose! It was {}.\".format(word))"
   ]
  },
  {
   "cell_type": "code",
   "execution_count": 5,
   "metadata": {},
   "outputs": [
    {
     "name": "stdout",
     "output_type": "stream",
     "text": [
      "Welcome to Hangman\n",
      "\n",
      "\n"
     ]
    },
    {
     "name": "stdin",
     "output_type": "stream",
     "text": [
      "Guess a letter \n"
     ]
    },
    {
     "name": "stdout",
     "output_type": "stream",
     "text": [
      "__ __ __ __ __\n",
      "\n",
      "________        \n",
      "\n",
      "\n"
     ]
    },
    {
     "name": "stdin",
     "output_type": "stream",
     "text": [
      "Guess a letter \n"
     ]
    },
    {
     "name": "stdout",
     "output_type": "stream",
     "text": [
      "__ __ __ __ __\n",
      "\n",
      "________        \n",
      "|               \n",
      "\n",
      "\n"
     ]
    },
    {
     "name": "stdin",
     "output_type": "stream",
     "text": [
      "Guess a letter \n"
     ]
    },
    {
     "name": "stdout",
     "output_type": "stream",
     "text": [
      "__ __ __ __ __\n",
      "\n",
      "________        \n",
      "|               \n",
      "|        |      \n",
      "\n",
      "\n"
     ]
    },
    {
     "name": "stdin",
     "output_type": "stream",
     "text": [
      "Guess a letter \n"
     ]
    },
    {
     "name": "stdout",
     "output_type": "stream",
     "text": [
      "__ __ __ __ __\n",
      "\n",
      "________        \n",
      "|               \n",
      "|        |      \n",
      "|        0      \n",
      "\n",
      "\n"
     ]
    },
    {
     "name": "stdin",
     "output_type": "stream",
     "text": [
      "Guess a letter \n"
     ]
    },
    {
     "name": "stdout",
     "output_type": "stream",
     "text": [
      "__ __ __ __ __\n",
      "\n",
      "________        \n",
      "|               \n",
      "|        |      \n",
      "|        0      \n",
      "|       /|\\     \n",
      "\n",
      "\n"
     ]
    },
    {
     "name": "stdin",
     "output_type": "stream",
     "text": [
      "Guess a letter c\n"
     ]
    },
    {
     "name": "stdout",
     "output_type": "stream",
     "text": [
      "__ __ __ __ __\n",
      "\n",
      "________        \n",
      "|               \n",
      "|        |      \n",
      "|        0      \n",
      "|       /|\\     \n",
      "|       / \\     \n",
      "\n",
      "\n"
     ]
    },
    {
     "name": "stdin",
     "output_type": "stream",
     "text": [
      "Guess a letter a\n"
     ]
    },
    {
     "name": "stdout",
     "output_type": "stream",
     "text": [
      "__ __ __ __ __\n",
      "\n",
      "________        \n",
      "|               \n",
      "|        |      \n",
      "|        0      \n",
      "|       /|\\     \n",
      "|       / \\     \n",
      "|               \n",
      "\n",
      "________        \n",
      "|               \n",
      "|        |      \n",
      "|        0      \n",
      "|       /|\\     \n",
      "|       / \\     \n",
      "You lose! It was white.\n"
     ]
    }
   ],
   "source": [
    "hangman()"
   ]
  },
  {
   "cell_type": "code",
   "execution_count": 12,
   "metadata": {},
   "outputs": [],
   "source": [
    "class Rectangle():\n",
    "    def __init__(self,width,length):\n",
    "        self.width = width\n",
    "        self.length = length\n",
    "    \n",
    "    def calculate_perimeter(self):\n",
    "        return self.width * 2 + self.length * 2\n",
    "    \n",
    "    def change_size(self,n):\n",
    "        self.s1 = \n",
    "        \n",
    "class Square():\n",
    "    def __init__(self,width):\n",
    "        self.width = width\n",
    "        \n",
    "    def calculate_perimeter(self):\n",
    "        return self.width * 4\n"
   ]
  },
  {
   "cell_type": "code",
   "execution_count": 8,
   "metadata": {},
   "outputs": [],
   "source": [
    "v = Rectangle(4,5)"
   ]
  },
  {
   "cell_type": "code",
   "execution_count": 9,
   "metadata": {},
   "outputs": [
    {
     "data": {
      "text/plain": [
       "18"
      ]
     },
     "execution_count": 9,
     "metadata": {},
     "output_type": "execute_result"
    }
   ],
   "source": [
    "v.calculate_perimeter()"
   ]
  },
  {
   "cell_type": "code",
   "execution_count": 13,
   "metadata": {},
   "outputs": [],
   "source": [
    "v = Square(5)"
   ]
  },
  {
   "cell_type": "code",
   "execution_count": 14,
   "metadata": {},
   "outputs": [
    {
     "data": {
      "text/plain": [
       "20"
      ]
     },
     "execution_count": 14,
     "metadata": {},
     "output_type": "execute_result"
    }
   ],
   "source": [
    "v.calculate_perimeter()"
   ]
  }
 ],
 "metadata": {
  "kernelspec": {
   "display_name": "Python 3",
   "language": "python",
   "name": "python3"
  },
  "language_info": {
   "codemirror_mode": {
    "name": "ipython",
    "version": 3
   },
   "file_extension": ".py",
   "mimetype": "text/x-python",
   "name": "python",
   "nbconvert_exporter": "python",
   "pygments_lexer": "ipython3",
   "version": "3.7.4"
  }
 },
 "nbformat": 4,
 "nbformat_minor": 4
}
