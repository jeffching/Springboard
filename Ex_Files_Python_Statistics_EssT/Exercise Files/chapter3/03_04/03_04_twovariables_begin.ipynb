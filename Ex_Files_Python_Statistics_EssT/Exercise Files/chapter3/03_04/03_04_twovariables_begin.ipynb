{
 "cells": [
  {
   "cell_type": "markdown",
   "metadata": {},
   "source": [
    "## Python statistics essential training - 03_04_twovariables"
   ]
  },
  {
   "cell_type": "markdown",
   "metadata": {},
   "source": [
    "Standard imports"
   ]
  },
  {
   "cell_type": "code",
   "execution_count": 1,
   "metadata": {},
   "outputs": [],
   "source": [
    "import numpy as np\n",
    "import scipy.stats\n",
    "import pandas as pd"
   ]
  },
  {
   "cell_type": "code",
   "execution_count": 2,
   "metadata": {},
   "outputs": [],
   "source": [
    "import matplotlib\n",
    "import matplotlib.pyplot as pp\n",
    "\n",
    "from IPython import display\n",
    "from ipywidgets import interact, widgets\n",
    "\n",
    "%matplotlib inline"
   ]
  },
  {
   "cell_type": "code",
   "execution_count": 3,
   "metadata": {},
   "outputs": [],
   "source": [
    "import re\n",
    "import mailbox\n",
    "import csv"
   ]
  },
  {
   "cell_type": "code",
   "execution_count": 4,
   "metadata": {},
   "outputs": [],
   "source": [
    "gapminder = pd.read_csv('gapminder.csv')"
   ]
  },
  {
   "cell_type": "code",
   "execution_count": 5,
   "metadata": {},
   "outputs": [
    {
     "name": "stdout",
     "output_type": "stream",
     "text": [
      "<class 'pandas.core.frame.DataFrame'>\n",
      "RangeIndex: 14740 entries, 0 to 14739\n",
      "Data columns (total 9 columns):\n",
      " #   Column            Non-Null Count  Dtype  \n",
      "---  ------            --------------  -----  \n",
      " 0   country           14740 non-null  object \n",
      " 1   year              14740 non-null  int64  \n",
      " 2   region            14740 non-null  object \n",
      " 3   population        14740 non-null  float64\n",
      " 4   life_expectancy   14740 non-null  float64\n",
      " 5   age5_surviving    14740 non-null  float64\n",
      " 6   babies_per_woman  14740 non-null  float64\n",
      " 7   gdp_per_capita    14740 non-null  float64\n",
      " 8   gdp_per_day       14740 non-null  float64\n",
      "dtypes: float64(6), int64(1), object(2)\n",
      "memory usage: 1.0+ MB\n"
     ]
    }
   ],
   "source": [
    "gapminder.info()"
   ]
  },
  {
   "cell_type": "markdown",
   "metadata": {},
   "source": [
    "We want to find possible relationships among 2 variables (correlation, causation) - explain the variation in a response variable as function of the variation in the explanatory variable."
   ]
  },
  {
   "cell_type": "code",
   "execution_count": 6,
   "metadata": {},
   "outputs": [],
   "source": [
    "#plot a variable as a date\n",
    "italy = gapminder.query('country == \"Italy\"')"
   ]
  },
  {
   "cell_type": "code",
   "execution_count": 7,
   "metadata": {},
   "outputs": [
    {
     "data": {
      "text/html": [
       "<div>\n",
       "<style scoped>\n",
       "    .dataframe tbody tr th:only-of-type {\n",
       "        vertical-align: middle;\n",
       "    }\n",
       "\n",
       "    .dataframe tbody tr th {\n",
       "        vertical-align: top;\n",
       "    }\n",
       "\n",
       "    .dataframe thead th {\n",
       "        text-align: right;\n",
       "    }\n",
       "</style>\n",
       "<table border=\"1\" class=\"dataframe\">\n",
       "  <thead>\n",
       "    <tr style=\"text-align: right;\">\n",
       "      <th></th>\n",
       "      <th>country</th>\n",
       "      <th>year</th>\n",
       "      <th>region</th>\n",
       "      <th>population</th>\n",
       "      <th>life_expectancy</th>\n",
       "      <th>age5_surviving</th>\n",
       "      <th>babies_per_woman</th>\n",
       "      <th>gdp_per_capita</th>\n",
       "      <th>gdp_per_day</th>\n",
       "    </tr>\n",
       "  </thead>\n",
       "  <tbody>\n",
       "    <tr>\n",
       "      <th>6397</th>\n",
       "      <td>Italy</td>\n",
       "      <td>1800</td>\n",
       "      <td>Europe</td>\n",
       "      <td>18822234.0</td>\n",
       "      <td>29.69</td>\n",
       "      <td>54.259</td>\n",
       "      <td>5.47</td>\n",
       "      <td>2225.0</td>\n",
       "      <td>6.091718</td>\n",
       "    </tr>\n",
       "    <tr>\n",
       "      <th>6398</th>\n",
       "      <td>Italy</td>\n",
       "      <td>1810</td>\n",
       "      <td>Europe</td>\n",
       "      <td>19491674.0</td>\n",
       "      <td>29.69</td>\n",
       "      <td>54.395</td>\n",
       "      <td>5.47</td>\n",
       "      <td>2371.0</td>\n",
       "      <td>6.491444</td>\n",
       "    </tr>\n",
       "    <tr>\n",
       "      <th>6399</th>\n",
       "      <td>Italy</td>\n",
       "      <td>1820</td>\n",
       "      <td>Europe</td>\n",
       "      <td>20341608.0</td>\n",
       "      <td>29.69</td>\n",
       "      <td>54.531</td>\n",
       "      <td>5.47</td>\n",
       "      <td>2474.0</td>\n",
       "      <td>6.773443</td>\n",
       "    </tr>\n",
       "    <tr>\n",
       "      <th>6400</th>\n",
       "      <td>Italy</td>\n",
       "      <td>1830</td>\n",
       "      <td>Europe</td>\n",
       "      <td>21529667.0</td>\n",
       "      <td>29.69</td>\n",
       "      <td>54.667</td>\n",
       "      <td>5.47</td>\n",
       "      <td>2471.0</td>\n",
       "      <td>6.765229</td>\n",
       "    </tr>\n",
       "    <tr>\n",
       "      <th>6401</th>\n",
       "      <td>Italy</td>\n",
       "      <td>1840</td>\n",
       "      <td>Europe</td>\n",
       "      <td>22956667.0</td>\n",
       "      <td>29.69</td>\n",
       "      <td>54.804</td>\n",
       "      <td>5.47</td>\n",
       "      <td>2524.0</td>\n",
       "      <td>6.910335</td>\n",
       "    </tr>\n",
       "  </tbody>\n",
       "</table>\n",
       "</div>"
      ],
      "text/plain": [
       "     country  year  region  population  life_expectancy  age5_surviving  \\\n",
       "6397   Italy  1800  Europe  18822234.0            29.69          54.259   \n",
       "6398   Italy  1810  Europe  19491674.0            29.69          54.395   \n",
       "6399   Italy  1820  Europe  20341608.0            29.69          54.531   \n",
       "6400   Italy  1830  Europe  21529667.0            29.69          54.667   \n",
       "6401   Italy  1840  Europe  22956667.0            29.69          54.804   \n",
       "\n",
       "      babies_per_woman  gdp_per_capita  gdp_per_day  \n",
       "6397              5.47          2225.0     6.091718  \n",
       "6398              5.47          2371.0     6.491444  \n",
       "6399              5.47          2474.0     6.773443  \n",
       "6400              5.47          2471.0     6.765229  \n",
       "6401              5.47          2524.0     6.910335  "
      ]
     },
     "execution_count": 7,
     "metadata": {},
     "output_type": "execute_result"
    }
   ],
   "source": [
    "italy.head()"
   ]
  },
  {
   "cell_type": "code",
   "execution_count": 8,
   "metadata": {},
   "outputs": [
    {
     "data": {
      "text/plain": [
       "<matplotlib.axes._subplots.AxesSubplot at 0x1287d9650>"
      ]
     },
     "execution_count": 8,
     "metadata": {},
     "output_type": "execute_result"
    },
    {
     "data": {
      "image/png": "[encoded data removed]",
      "text/plain": [
       "<Figure size 432x288 with 1 Axes>"
      ]
     },
     "metadata": {
      "needs_background": "light"
     },
     "output_type": "display_data"
    }
   ],
   "source": [
    "italy.plot.scatter(\"year\",\"population\")"
   ]
  },
  {
   "cell_type": "code",
   "execution_count": 9,
   "metadata": {},
   "outputs": [],
   "source": [
    "#plot becomes denser after 1950 .. increase in population density"
   ]
  },
  {
   "cell_type": "code",
   "execution_count": 10,
   "metadata": {},
   "outputs": [
    {
     "data": {
      "text/plain": [
       "<matplotlib.axes._subplots.AxesSubplot at 0x12a8a66d0>"
      ]
     },
     "execution_count": 10,
     "metadata": {},
     "output_type": "execute_result"
    },
    {
     "data": {
      "image/png": "[encoded data removed]",
      "text/plain": [
       "<Figure size 432x288 with 1 Axes>"
      ]
     },
     "metadata": {
      "needs_background": "light"
     },
     "output_type": "display_data"
    }
   ],
   "source": [
    "gapminder.query('country == \"India\"').plot.scatter(\"year\",\"population\")"
   ]
  },
  {
   "cell_type": "code",
   "execution_count": 13,
   "metadata": {},
   "outputs": [
    {
     "data": {
      "text/plain": [
       "<matplotlib.axes._subplots.AxesSubplot at 0x12ae0d350>"
      ]
     },
     "execution_count": 13,
     "metadata": {},
     "output_type": "execute_result"
    },
    {
     "data": {
      "image/png": "[encoded data removed]",
      "text/plain": [
       "<Figure size 432x288 with 1 Axes>"
      ]
     },
     "metadata": {
      "needs_background": "light"
     },
     "output_type": "display_data"
    }
   ],
   "source": [
    "#let's look at income per person per day\n",
    "#use logarithm of income (logy)\n",
    "italy.plot.scatter(\"year\",\"gdp_per_day\",logy=True)"
   ]
  },
  {
   "cell_type": "markdown",
   "metadata": {},
   "source": [
    "The last 20 years have been disappointing (detrending in GDP over year)"
   ]
  },
  {
   "cell_type": "code",
   "execution_count": 14,
   "metadata": {},
   "outputs": [
    {
     "data": {
      "text/plain": [
       "<matplotlib.axes._subplots.AxesSubplot at 0x12ae0dd50>"
      ]
     },
     "execution_count": 14,
     "metadata": {},
     "output_type": "execute_result"
    },
    {
     "data": {
      "image/png": "[encoded data removed]",
      "text/plain": [
       "<Figure size 432x288 with 1 Axes>"
      ]
     },
     "metadata": {
      "needs_background": "light"
     },
     "output_type": "display_data"
    }
   ],
   "source": [
    "#let's look at income per person per day compared to quality of life \n",
    "# - i.e. life expectancy\n",
    "italy.plot.scatter(\"gdp_per_day\",\"life_expectancy\",logx=True)"
   ]
  },
  {
   "cell_type": "markdown",
   "metadata": {},
   "source": [
    "We see that even though income seems to be decreasing, life expectancy continues to grow"
   ]
  },
  {
   "cell_type": "code",
   "execution_count": 17,
   "metadata": {},
   "outputs": [
    {
     "data": {
      "text/plain": [
       "<matplotlib.axes._subplots.AxesSubplot at 0x12a8a6cd0>"
      ]
     },
     "execution_count": 17,
     "metadata": {},
     "output_type": "execute_result"
    },
    {
     "data": {
      "image/png": "[encoded data removed]",
      "text/plain": [
       "<Figure size 432x288 with 1 Axes>"
      ]
     },
     "metadata": {
      "needs_background": "light"
     },
     "output_type": "display_data"
    }
   ],
   "source": [
    "#We can mark decades by changing the size of the dots\n",
    "size = np.where(italy.year % 10 == 0,30,2)\n",
    "italy.plot.scatter(\"gdp_per_day\",\"life_expectancy\",logx=True, s=size)"
   ]
  },
  {
   "cell_type": "code",
   "execution_count": 18,
   "metadata": {},
   "outputs": [
    {
     "data": {
      "text/plain": [
       "<matplotlib.axes._subplots.AxesSubplot at 0x12b42ea90>"
      ]
     },
     "execution_count": 18,
     "metadata": {},
     "output_type": "execute_result"
    },
    {
     "data": {
      "image/png": "[encoded data removed]",
      "text/plain": [
       "<Figure size 432x288 with 1 Axes>"
      ]
     },
     "metadata": {
      "needs_background": "light"
     },
     "output_type": "display_data"
    }
   ],
   "source": [
    "# we can plot Italy and US together\n",
    "data = gapminder.query('(country == \"Italy\") or (country == \"United States\")')\n",
    "size = np.where(data.year % 10 == 0,30,2)\n",
    "color = np.where(data.country == 'Italy','blue','orange') #blue, else orange\n",
    "data.plot.scatter(\"gdp_per_day\",\"life_expectancy\",logx=True, s=size,c=color)"
   ]
  },
  {
   "cell_type": "markdown",
   "metadata": {},
   "source": [
    "Italy and US are similar trend of increased GDP and life expectancy, with Italy falling shorter with US consistently richer, but US life expectancy less healthy"
   ]
  },
  {
   "cell_type": "code",
   "execution_count": 19,
   "metadata": {},
   "outputs": [
    {
     "data": {
      "text/plain": [
       "<matplotlib.axes._subplots.AxesSubplot at 0x12b61a2d0>"
      ]
     },
     "execution_count": 19,
     "metadata": {},
     "output_type": "execute_result"
    },
    {
     "data": {
      "image/png": "[encoded data removed]",
      "text/plain": [
       "<Figure size 432x288 with 1 Axes>"
      ]
     },
     "metadata": {
      "needs_background": "light"
     },
     "output_type": "display_data"
    }
   ],
   "source": [
    "# How about China and the US? We just need to make slight modification to code\n",
    "\n",
    "# we can plot China and US together\n",
    "data = gapminder.query('(country == \"China\") or (country == \"United States\")')\n",
    "size = np.where(data.year % 10 == 0,30,2)\n",
    "color = np.where(data.country == 'China','red','orange') #blue, else orange\n",
    "data.plot.scatter(\"gdp_per_day\",\"life_expectancy\",logx=True, s=size,c=color)"
   ]
  },
  {
   "cell_type": "markdown",
   "metadata": {},
   "source": [
    "We see there are a cluster of points in the bottom left for China population.\n",
    "We can connect this scatterplot to understand this better. We can add a line plot on top of the scatterplot."
   ]
  },
  {
   "cell_type": "code",
   "execution_count": 24,
   "metadata": {},
   "outputs": [
    {
     "data": {
      "text/plain": [
       "<matplotlib.axes._subplots.AxesSubplot at 0x12bfa70d0>"
      ]
     },
     "execution_count": 24,
     "metadata": {},
     "output_type": "execute_result"
    },
    {
     "data": {
      "image/png": "[encoded data removed]",
      "text/plain": [
       "<Figure size 432x288 with 1 Axes>"
      ]
     },
     "metadata": {
      "needs_background": "light"
     },
     "output_type": "display_data"
    }
   ],
   "source": [
    "data = gapminder.query('(country == \"China\") or (country == \"United States\")')\n",
    "size = np.where(data.year % 10 == 0,30,2)\n",
    "color = np.where(data.country == 'China','red','orange') #blue, else orange\n",
    "\n",
    "#save the object returned by plot.scatter - a matplotlib axis object\n",
    "#and pass it to the plot.line\n",
    "ax = data.plot.scatter(\"gdp_per_day\",\"life_expectancy\",logx=True, s=size,c=color)\n",
    "data[data.country == 'China'].plot.line(x=\"gdp_per_day\",y=\"life_expectancy\",ax=ax)"
   ]
  },
  {
   "cell_type": "code",
   "execution_count": 22,
   "metadata": {},
   "outputs": [
    {
     "name": "stdout",
     "output_type": "stream",
     "text": [
      "Help on method line in module pandas.plotting._core:\n",
      "\n",
      "line(x=None, y=None, **kwargs) method of pandas.plotting._core.PlotAccessor instance\n",
      "    Plot Series or DataFrame as lines.\n",
      "    \n",
      "    This function is useful to plot lines using DataFrame's values\n",
      "    as coordinates.\n",
      "    \n",
      "    Parameters\n",
      "    ----------\n",
      "    x : int or str, optional\n",
      "        Columns to use for the horizontal axis.\n",
      "        Either the location or the label of the columns to be used.\n",
      "        By default, it will use the DataFrame indices.\n",
      "    y : int, str, or list of them, optional\n",
      "        The values to be plotted.\n",
      "        Either the location or the label of the columns to be used.\n",
      "        By default, it will use the remaining DataFrame numeric columns.\n",
      "    **kwargs\n",
      "        Keyword arguments to pass on to :meth:`DataFrame.plot`.\n",
      "    \n",
      "    Returns\n",
      "    -------\n",
      "    :class:`matplotlib.axes.Axes` or :class:`numpy.ndarray`\n",
      "        Return an ndarray when ``subplots=True``.\n",
      "    \n",
      "    See Also\n",
      "    --------\n",
      "    matplotlib.pyplot.plot : Plot y versus x as lines and/or markers.\n",
      "    \n",
      "    Examples\n",
      "    --------\n",
      "    \n",
      "    .. plot::\n",
      "        :context: close-figs\n",
      "    \n",
      "        >>> s = pd.Series([1, 3, 2])\n",
      "        >>> s.plot.line()\n",
      "    \n",
      "    .. plot::\n",
      "        :context: close-figs\n",
      "    \n",
      "        The following example shows the populations for some animals\n",
      "        over the years.\n",
      "    \n",
      "        >>> df = pd.DataFrame({\n",
      "        ...    'pig': [20, 18, 489, 675, 1776],\n",
      "        ...    'horse': [4, 25, 281, 600, 1900]\n",
      "        ...    }, index=[1990, 1997, 2003, 2009, 2014])\n",
      "        >>> lines = df.plot.line()\n",
      "    \n",
      "    .. plot::\n",
      "       :context: close-figs\n",
      "    \n",
      "       An example with subplots, so an array of axes is returned.\n",
      "    \n",
      "       >>> axes = df.plot.line(subplots=True)\n",
      "       >>> type(axes)\n",
      "       <class 'numpy.ndarray'>\n",
      "    \n",
      "    .. plot::\n",
      "        :context: close-figs\n",
      "    \n",
      "        The following example shows the relationship between both\n",
      "        populations.\n",
      "    \n",
      "        >>> lines = df.plot.line(x='pig', y='horse')\n",
      "\n"
     ]
    }
   ],
   "source": [
    "help(data.plot.line)"
   ]
  }
 ],
 "metadata": {
  "kernelspec": {
   "display_name": "Python 3",
   "language": "python",
   "name": "python3"
  },
  "language_info": {
   "codemirror_mode": {
    "name": "ipython",
    "version": 3
   },
   "file_extension": ".py",
   "mimetype": "text/x-python",
   "name": "python",
   "nbconvert_exporter": "python",
   "pygments_lexer": "ipython3",
   "version": "3.7.4"
  },
  "toc": {
   "base_numbering": 1,
   "nav_menu": {},
   "number_sections": true,
   "sideBar": true,
   "skip_h1_title": false,
   "title_cell": "Table of Contents",
   "title_sidebar": "Contents",
   "toc_cell": false,
   "toc_position": {},
   "toc_section_display": true,
   "toc_window_display": false
  }
 },
 "nbformat": 4,
 "nbformat_minor": 4
}
