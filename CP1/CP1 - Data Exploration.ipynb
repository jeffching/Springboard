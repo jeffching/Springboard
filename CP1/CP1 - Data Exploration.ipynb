{
 "cells": [
  {
   "cell_type": "code",
   "execution_count": null,
   "metadata": {},
   "outputs": [],
   "source": [
    "import pandas as pd\n",
    "import numpy as np\n",
    "import os\n",
    "import glob\n",
    "import json\n",
    "import sqlite3\n",
    "from PythonSrc import hdf5_getters\n",
    "import h5py as hdf"
   ]
  },
  {
   "cell_type": "code",
   "execution_count": null,
   "metadata": {},
   "outputs": [],
   "source": [
    "project_dir = os.getcwd()\n",
    "msd_subset_data_path=os.path.join(project_dir,'MillionSongSubset/data')\n",
    "msd_subset_additionalfiles_path=os.path.join(project_dir,'MillionSongSubset/AdditionalFiles')\n",
    "db_file = os.path.join(msd_subset_additionalfiles_path,'subset_track_metadata.db')"
   ]
  },
  {
   "cell_type": "code",
   "execution_count": null,
   "metadata": {},
   "outputs": [],
   "source": [
    "print(project_dir,msd_subset_data_path,msd_subset_additionalfiles_path)"
   ]
  },
  {
   "cell_type": "code",
   "execution_count": null,
   "metadata": {},
   "outputs": [],
   "source": [
    "#get all data files for a directory \"A\"\n",
    "cnt = 0\n",
    "testfile_files = []\n",
    "for root, dirs, files in os.walk(msd_subset_data_path):\n",
    "    for file in files:\n",
    "        #print(os.path.join(root,file))\n",
    "        if \".h5\" in file:\n",
    "            testfile_files.append(os.path.join(msd_subset_data_path,root,file))\n",
    "        cnt += 1  "
   ]
  },
  {
   "cell_type": "code",
   "execution_count": null,
   "metadata": {},
   "outputs": [],
   "source": [
    "len(testfile_files)"
   ]
  },
  {
   "cell_type": "code",
   "execution_count": null,
   "metadata": {},
   "outputs": [],
   "source": [
    "testfile_files[:10]"
   ]
  },
  {
   "cell_type": "code",
   "execution_count": null,
   "metadata": {},
   "outputs": [],
   "source": [
    "testfile_1 = str(testfile_files[0])\n",
    "print(testfile_1)"
   ]
  },
  {
   "cell_type": "code",
   "execution_count": null,
   "metadata": {},
   "outputs": [],
   "source": [
    "f = hdf.File(testfile_1, 'r')                                  \n",
    "#print(f.keys())\n",
    "print(list(f.keys()))\n",
    "#artist_name = hdf5_getters.get_artist_name(f)\n",
    "#artist_name"
   ]
  },
  {
   "cell_type": "code",
   "execution_count": null,
   "metadata": {},
   "outputs": [],
   "source": [
    "test1 = pd.read_hdf(testfile_1)"
   ]
  },
  {
   "cell_type": "code",
   "execution_count": null,
   "metadata": {},
   "outputs": [],
   "source": [
    "all_artist_names = set()\n",
    "def func_to_get_artist_name(filename):\n",
    "    \"\"\"\n",
    "    This function does 3 simple things:\n",
    "    - open the song file\n",
    "    - get artist ID and put it\n",
    "    - close the file\n",
    "    \"\"\"\n",
    "    h5 = hdf5_getters.open_h5_file_read(filename)\n",
    "    artist_name = hdf5_getters.get_artist_name(h5)\n",
    "    all_artist_names.add(artist_name)\n",
    "    h5.close()\n",
    "    \n",
    "apply_to_all_files(msd_subset_data_path,func=func_to_get_artist_name)"
   ]
  },
  {
   "cell_type": "code",
   "execution_count": null,
   "metadata": {},
   "outputs": [],
   "source": [
    "conn = sqlite3.connect(db_file)\n",
    "q = \"SELECT DISTINCT artist_name FROM songs\"\n",
    "# we query the database\n",
    "res = conn.execute(q)\n",
    "all_artist_names_sqlite = res.fetchall()"
   ]
  },
  {
   "cell_type": "code",
   "execution_count": null,
   "metadata": {},
   "outputs": [],
   "source": [
    "all_artist_names_sqlite"
   ]
  },
  {
   "cell_type": "code",
   "execution_count": null,
   "metadata": {},
   "outputs": [],
   "source": []
  }
 ],
 "metadata": {
  "kernelspec": {
   "display_name": "Python 3",
   "language": "python",
   "name": "python3"
  },
  "language_info": {
   "codemirror_mode": {
    "name": "ipython",
    "version": 3
   },
   "file_extension": ".py",
   "mimetype": "text/x-python",
   "name": "python",
   "nbconvert_exporter": "python",
   "pygments_lexer": "ipython3",
   "version": "3.6.8"
  }
 },
 "nbformat": 4,
 "nbformat_minor": 2
}
